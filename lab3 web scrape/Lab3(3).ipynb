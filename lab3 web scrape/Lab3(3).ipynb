{
 "cells": [
  {
   "cell_type": "code",
   "execution_count": 1,
   "id": "9cda99cc-79fa-45ba-910d-4c01562a0af1",
   "metadata": {},
   "outputs": [],
   "source": [
    "import requests\n",
    "from bs4 import BeautifulSoup\n",
    "import csv"
   ]
  },
  {
   "cell_type": "code",
   "execution_count": 2,
   "id": "41bcb6fd-4ff6-43a8-8928-f7c71d7b2817",
   "metadata": {},
   "outputs": [],
   "source": [
    "# Send a GET request to the website\n",
    "page = requests.get('https://quotes.toscrape.com')"
   ]
  },
  {
   "cell_type": "code",
   "execution_count": 3,
   "id": "32f128c7-85cf-4be7-8ce4-ea65ae77a83b",
   "metadata": {},
   "outputs": [],
   "source": [
    "# Parse the HTML content\n",
    "soup = BeautifulSoup(page.text, 'html.parser')\n"
   ]
  },
  {
   "cell_type": "code",
   "execution_count": 4,
   "id": "1c8715d5-c253-440b-a531-a87f58d4c7cf",
   "metadata": {},
   "outputs": [],
   "source": [
    "# Create a list to store quotes\n",
    "quotes = []"
   ]
  },
  {
   "cell_type": "code",
   "execution_count": 5,
   "id": "45be12cb-60fc-4fa7-9a9f-14ba6b17e0d7",
   "metadata": {},
   "outputs": [],
   "source": [
    "# Find all quote elements\n",
    "quote_elements = soup.find_all('div', class_='quote')"
   ]
  },
  {
   "cell_type": "code",
   "execution_count": 10,
   "id": "f2e8cd65-8c94-4bb8-82c5-2d4a3791fda5",
   "metadata": {},
   "outputs": [],
   "source": [
    "# Extract information from each quote element\n",
    "for quote_element in quote_elements:\n",
    " # extract the text of the quote\n",
    " text = quote_element.find('span', class_='text').text\n",
    " # extract the author of the quote\n",
    " author = quote_element.find('small', class_='author').text\n",
    "# extract the tag <a> HTML elements related to the quote\n",
    " tag_elements = quote_element.select('.tags .tag')\n",
    "\n"
   ]
  },
  {
   "cell_type": "code",
   "execution_count": 11,
   "id": "fac3c41d-bcf6-4164-8681-81cfd99b6cd1",
   "metadata": {},
   "outputs": [
    {
     "ename": "IndentationError",
     "evalue": "unexpected indent (3985721907.py, line 2)",
     "output_type": "error",
     "traceback": [
      "\u001b[1;36m  Cell \u001b[1;32mIn[11], line 2\u001b[1;36m\u001b[0m\n\u001b[1;33m    tags = []\u001b[0m\n\u001b[1;37m    ^\u001b[0m\n\u001b[1;31mIndentationError\u001b[0m\u001b[1;31m:\u001b[0m unexpected indent\n"
     ]
    }
   ],
   "source": [
    "# store the list of tag strings in a list\n",
    " tags = []\n",
    " for tag_element in tag_elements:\n",
    " tags.append(tag_element.text)\n",
    "\n",
    " quotes.append(\n",
    " {\n",
    " 'text': text,\n",
    " 'author': author,\n",
    " 'tags': ', '.join(tags) # merge the tags into a \"A, B, ..., Z\" string\n",
    " }"
   ]
  },
  {
   "cell_type": "code",
   "execution_count": 9,
   "id": "de54e3ca-aef6-4815-89d0-5b1d8401fbfa",
   "metadata": {},
   "outputs": [
    {
     "ename": "IndentationError",
     "evalue": "unexpected indent (3637690660.py, line 5)",
     "output_type": "error",
     "traceback": [
      "\u001b[1;36m  Cell \u001b[1;32mIn[9], line 5\u001b[1;36m\u001b[0m\n\u001b[1;33m    print(\"Tags: \", quote['tags'])\u001b[0m\n\u001b[1;37m    ^\u001b[0m\n\u001b[1;31mIndentationError\u001b[0m\u001b[1;31m:\u001b[0m unexpected indent\n"
     ]
    }
   ],
   "source": [
    "# Print the scraped quotes - optional\n",
    "for quote in quotes:\n",
    " print(\"Quote: \", quote['text'])\n",
    " print(\"Author: \", quote['author'])\n",
    "    print(\"Tags: \", quote['tags'])\n",
    " print()\n"
   ]
  },
  {
   "cell_type": "code",
   "execution_count": 12,
   "id": "6a205f85-03ba-413c-85e7-bb807e7e708f",
   "metadata": {},
   "outputs": [],
   "source": [
    "# Save quotes to a CSV file\n",
    "with open('quotes.csv', 'w', encoding='utf-8', newline='') as csvfile:\n",
    " fieldnames = ['text', 'author', 'tags']\n",
    " writer = csv.DictWriter(csvfile, fieldnames=fieldnames)\n"
   ]
  },
  {
   "cell_type": "code",
   "execution_count": 13,
   "id": "a0c31812-cce3-4ab7-b12f-88d1be60778c",
   "metadata": {},
   "outputs": [
    {
     "ename": "ValueError",
     "evalue": "I/O operation on closed file.",
     "output_type": "error",
     "traceback": [
      "\u001b[1;31m---------------------------------------------------------------------------\u001b[0m",
      "\u001b[1;31mValueError\u001b[0m                                Traceback (most recent call last)",
      "Cell \u001b[1;32mIn[13], line 2\u001b[0m\n\u001b[0;32m      1\u001b[0m \u001b[38;5;66;03m# Write headers\u001b[39;00m\n\u001b[1;32m----> 2\u001b[0m writer\u001b[38;5;241m.\u001b[39mwriteheader()\n",
      "File \u001b[1;32m~\\anaconda3\\Lib\\csv.py:153\u001b[0m, in \u001b[0;36mDictWriter.writeheader\u001b[1;34m(self)\u001b[0m\n\u001b[0;32m    151\u001b[0m \u001b[38;5;28;01mdef\u001b[39;00m \u001b[38;5;21mwriteheader\u001b[39m(\u001b[38;5;28mself\u001b[39m):\n\u001b[0;32m    152\u001b[0m     header \u001b[38;5;241m=\u001b[39m \u001b[38;5;28mdict\u001b[39m(\u001b[38;5;28mzip\u001b[39m(\u001b[38;5;28mself\u001b[39m\u001b[38;5;241m.\u001b[39mfieldnames, \u001b[38;5;28mself\u001b[39m\u001b[38;5;241m.\u001b[39mfieldnames))\n\u001b[1;32m--> 153\u001b[0m     \u001b[38;5;28;01mreturn\u001b[39;00m \u001b[38;5;28mself\u001b[39m\u001b[38;5;241m.\u001b[39mwriterow(header)\n",
      "File \u001b[1;32m~\\anaconda3\\Lib\\csv.py:164\u001b[0m, in \u001b[0;36mDictWriter.writerow\u001b[1;34m(self, rowdict)\u001b[0m\n\u001b[0;32m    163\u001b[0m \u001b[38;5;28;01mdef\u001b[39;00m \u001b[38;5;21mwriterow\u001b[39m(\u001b[38;5;28mself\u001b[39m, rowdict):\n\u001b[1;32m--> 164\u001b[0m     \u001b[38;5;28;01mreturn\u001b[39;00m \u001b[38;5;28mself\u001b[39m\u001b[38;5;241m.\u001b[39mwriter\u001b[38;5;241m.\u001b[39mwriterow(\u001b[38;5;28mself\u001b[39m\u001b[38;5;241m.\u001b[39m_dict_to_list(rowdict))\n",
      "\u001b[1;31mValueError\u001b[0m: I/O operation on closed file."
     ]
    }
   ],
   "source": [
    " # Write headers\n",
    " writer.writeheader()"
   ]
  },
  {
   "cell_type": "code",
   "execution_count": 14,
   "id": "3ab76038-c8c2-4d9b-98a2-cb513ad1c0e3",
   "metadata": {},
   "outputs": [
    {
     "ename": "IndentationError",
     "evalue": "unexpected indent (4261033189.py, line 2)",
     "output_type": "error",
     "traceback": [
      "\u001b[1;36m  Cell \u001b[1;32mIn[14], line 2\u001b[1;36m\u001b[0m\n\u001b[1;33m    for quote in quotes:\u001b[0m\n\u001b[1;37m    ^\u001b[0m\n\u001b[1;31mIndentationError\u001b[0m\u001b[1;31m:\u001b[0m unexpected indent\n"
     ]
    }
   ],
   "source": [
    "# Write quotes\n",
    " for quote in quotes:\n",
    " writer.writerow(quote)"
   ]
  },
  {
   "cell_type": "code",
   "execution_count": 15,
   "id": "ea36a112-e943-46e6-9fc1-36877805f070",
   "metadata": {},
   "outputs": [
    {
     "name": "stdout",
     "output_type": "stream",
     "text": [
      "Quotes have been saved to quotes.csv\n"
     ]
    }
   ],
   "source": [
    "print(\"Quotes have been saved to quotes.csv\")"
   ]
  },
  {
   "cell_type": "code",
   "execution_count": 16,
   "id": "74efb48f-b60a-46b4-871c-07b18dbd5dde",
   "metadata": {},
   "outputs": [],
   "source": [
    "import requests\n",
    "from bs4 import BeautifulSoup\n",
    "import csv\n"
   ]
  },
  {
   "cell_type": "code",
   "execution_count": 17,
   "id": "068d4817-7b5c-4516-845e-2c0145037d3c",
   "metadata": {},
   "outputs": [
    {
     "ename": "SyntaxError",
     "evalue": "unterminated string literal (detected at line 6) (81260171.py, line 6)",
     "output_type": "error",
     "traceback": [
      "\u001b[1;36m  Cell \u001b[1;32mIn[17], line 6\u001b[1;36m\u001b[0m\n\u001b[1;33m    tags = ', '.join(tag.text for tag in quote.find_all('a', class_='tag\u001b[0m\n\u001b[1;37m                                                                    ^\u001b[0m\n\u001b[1;31mSyntaxError\u001b[0m\u001b[1;31m:\u001b[0m unterminated string literal (detected at line 6)\n"
     ]
    }
   ],
   "source": [
    "# Function to scrape quotes from a page\n",
    "def scrape_page(soup, quotes):\n",
    " for quote in soup.find_all('div', class_='quote'):\n",
    " text = quote.find('span', class_='text').text\n",
    " author = quote.find('small', class_='author').text\n",
    " tags = ', '.join(tag.text for tag in quote.find_all('a', class_='tag"
   ]
  },
  {
   "cell_type": "code",
   "execution_count": 18,
   "id": "b11cb42c-f095-4fe3-87e5-144888ccf30e",
   "metadata": {},
   "outputs": [],
   "source": [
    "# Base URL and headers\n",
    "base_url = 'https://quotes.toscrape.com'\n",
    "headers = {'User-Agent': 'Mozilla/5.0'}\n"
   ]
  },
  {
   "cell_type": "code",
   "execution_count": 19,
   "id": "9de77593-05c8-471d-a81a-406502e4e8e9",
   "metadata": {},
   "outputs": [],
   "source": [
    "# List to store quotes\n",
    "quotes = []\n"
   ]
  },
  {
   "cell_type": "code",
   "execution_count": 20,
   "id": "c89d4154-0c45-490a-bdc9-309c57b32bbb",
   "metadata": {},
   "outputs": [
    {
     "ename": "IndentationError",
     "evalue": "expected an indented block after 'while' statement on line 3 (1656250887.py, line 4)",
     "output_type": "error",
     "traceback": [
      "\u001b[1;36m  Cell \u001b[1;32mIn[20], line 4\u001b[1;36m\u001b[0m\n\u001b[1;33m    response = requests.get(url, headers=headers)\u001b[0m\n\u001b[1;37m    ^\u001b[0m\n\u001b[1;31mIndentationError\u001b[0m\u001b[1;31m:\u001b[0m expected an indented block after 'while' statement on line 3\n"
     ]
    }
   ],
   "source": [
    "# Function to scrape quotes from multiple pages\n",
    "def scrape_all_pages(url):\n",
    " while url:\n",
    " response = requests.get(url, headers=headers)\n",
    " soup = BeautifulSoup(response.text, 'html.parser')\n",
    " scrape_page(soup, quotes)\n",
    " next_page = soup.find('li', class_='next')\n",
    " url = base_url + next_page.find('a')['href'] if next_page else None\n"
   ]
  },
  {
   "cell_type": "code",
   "execution_count": 21,
   "id": "f0fe6a42-26d7-4185-b0e3-208cb2466920",
   "metadata": {},
   "outputs": [
    {
     "ename": "NameError",
     "evalue": "name 'scrape_all_pages' is not defined",
     "output_type": "error",
     "traceback": [
      "\u001b[1;31m---------------------------------------------------------------------------\u001b[0m",
      "\u001b[1;31mNameError\u001b[0m                                 Traceback (most recent call last)",
      "Cell \u001b[1;32mIn[21], line 2\u001b[0m\n\u001b[0;32m      1\u001b[0m \u001b[38;5;66;03m# Scrape quotes from all pages\u001b[39;00m\n\u001b[1;32m----> 2\u001b[0m scrape_all_pages(base_url)\n",
      "\u001b[1;31mNameError\u001b[0m: name 'scrape_all_pages' is not defined"
     ]
    }
   ],
   "source": [
    "# Scrape quotes from all pages\n",
    "scrape_all_pages(base_url)\n"
   ]
  },
  {
   "cell_type": "code",
   "execution_count": 22,
   "id": "d9536679-971a-4cc8-a473-41aec876080b",
   "metadata": {},
   "outputs": [],
   "source": [
    "# Save quotes to CSV file\n",
    "with open('quotes2.csv', 'w', newline='', encoding='utf-8') as csvfile:\n",
    " writer = csv.DictWriter(csvfile, fieldnames=['Text', 'Author', 'Tags'])\n",
    " writer.writeheader()\n",
    " writer.writerows(quotes)"
   ]
  },
  {
   "cell_type": "code",
   "execution_count": null,
   "id": "9103462a-7097-4ebf-b2fc-895244390047",
   "metadata": {},
   "outputs": [],
   "source": []
  }
 ],
 "metadata": {
  "kernelspec": {
   "display_name": "Python 3 (ipykernel)",
   "language": "python",
   "name": "python3"
  },
  "language_info": {
   "codemirror_mode": {
    "name": "ipython",
    "version": 3
   },
   "file_extension": ".py",
   "mimetype": "text/x-python",
   "name": "python",
   "nbconvert_exporter": "python",
   "pygments_lexer": "ipython3",
   "version": "3.12.7"
  }
 },
 "nbformat": 4,
 "nbformat_minor": 5
}
